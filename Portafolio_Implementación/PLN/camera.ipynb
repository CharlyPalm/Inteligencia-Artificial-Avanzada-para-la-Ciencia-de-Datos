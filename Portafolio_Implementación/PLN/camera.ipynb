{
 "cells": [
  {
   "cell_type": "code",
   "execution_count": 2,
   "metadata": {},
   "outputs": [],
   "source": [
    "import cv2\n",
    "import mediapipe as mp\n",
    "\n",
    "# Inicializa los módulos de Mediapipe\n",
    "mp_face_detection = mp.solutions.face_detection\n",
    "mp_hands = mp.solutions.hands\n",
    "\n",
    "# Inicia la captura de video\n",
    "cap = cv2.VideoCapture(0)\n",
    "\n",
    "with mp_face_detection.FaceDetection(min_detection_confidence=0.2) as face_detection, \\\n",
    "     mp_hands.Hands(min_detection_confidence=0.2, min_tracking_confidence=0.2) as hands:\n",
    "    \n",
    "    while cap.isOpened():\n",
    "        success, frame = cap.read()\n",
    "        if not success:\n",
    "            print(\"No se pudo leer el marco.\")\n",
    "            break\n",
    "\n",
    "        # Convierte el marco a RGB\n",
    "        frame_rgb = cv2.cvtColor(frame, cv2.COLOR_BGR2RGB)\n",
    "        \n",
    "        # Detecta caras\n",
    "        face_results = face_detection.process(frame_rgb)\n",
    "        \n",
    "        # Detecta manos\n",
    "        hand_results = hands.process(frame_rgb)\n",
    "\n",
    "        # Dibuja detecciones de cara\n",
    "        if face_results.detections:\n",
    "            for detection in face_results.detections:\n",
    "                bboxC = detection.location_data.relative_bounding_box\n",
    "                ih, iw, _ = frame.shape\n",
    "                x, y, w, h = int(bboxC.xmin * iw), int(bboxC.ymin * ih), \\\n",
    "                             int(bboxC.width * iw), int(bboxC.height * ih)\n",
    "                cv2.rectangle(frame, (x, y), (x + w, y + h), (255, 0, 0), 2)\n",
    "\n",
    "        ## Dibuja detecciones de manos\n",
    "        #if hand_results.multi_hand_landmarks:\n",
    "         #   for hand_landmarks in hand_results.multi_hand_landmarks:\n",
    "          #      mp.solutions.drawing_utils.draw_landmarks(frame, hand_landmarks, mp.hands.HAND_CONNECTIONS)\n",
    "\n",
    "        # Muestra el marco con las detecciones\n",
    "        cv2.imshow(\"Detección de Cara y Manos\", frame)\n",
    "\n",
    "        if cv2.waitKey(5) & 0xFF == 27:  # Presiona 'Esc' para salir\n",
    "            break\n",
    "\n",
    "cap.release()\n",
    "cv2.destroyAllWindows()\n"
   ]
  }
 ],
 "metadata": {
  "kernelspec": {
   "display_name": "bloque2",
   "language": "python",
   "name": "python3"
  },
  "language_info": {
   "codemirror_mode": {
    "name": "ipython",
    "version": 3
   },
   "file_extension": ".py",
   "mimetype": "text/x-python",
   "name": "python",
   "nbconvert_exporter": "python",
   "pygments_lexer": "ipython3",
   "version": "3.12.5"
  }
 },
 "nbformat": 4,
 "nbformat_minor": 2
}
